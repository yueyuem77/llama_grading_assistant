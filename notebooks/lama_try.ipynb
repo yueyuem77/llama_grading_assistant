{
 "cells": [
  {
   "cell_type": "markdown",
   "id": "2acd4c30-7deb-4f3a-ad00-e3bd6a1accf3",
   "metadata": {},
   "source": [
    "## Goal: \n",
    "1. get more familiar with huggingface\n",
    "2. Try a few prompt engineering"
   ]
  },
  {
   "cell_type": "code",
   "execution_count": 1,
   "id": "673027ee-ddc8-4731-afea-4500fee0b094",
   "metadata": {},
   "outputs": [
    {
     "data": {
      "application/vnd.jupyter.widget-view+json": {
       "model_id": "8c42cdaa8e1d411dbca581767f6defaf",
       "version_major": 2,
       "version_minor": 0
      },
      "text/plain": [
       "Loading checkpoint shards:   0%|          | 0/4 [00:00<?, ?it/s]"
      ]
     },
     "metadata": {},
     "output_type": "display_data"
    }
   ],
   "source": [
    "# Use a pipeline as a high-level helper\n",
    "from transformers import pipeline\n",
    "import torch\n",
    "\n",
    "\n",
    "# Check if GPU is available and set the device\n",
    "device = 0 if torch.cuda.is_available() else -1\n",
    "\n",
    "generator = pipeline(\"text-generation\", model=\"meta-llama/Llama-3.1-8B\", device = device)"
   ]
  },
  {
   "cell_type": "code",
   "execution_count": null,
   "id": "ff018f8a-12a4-43f1-99ab-0b74026f59ca",
   "metadata": {},
   "outputs": [],
   "source": [
    "import datasets"
   ]
  },
  {
   "cell_type": "code",
   "execution_count": 15,
   "id": "af9fe4d9-1ad1-438d-b8eb-8d0c59c3a153",
   "metadata": {},
   "outputs": [],
   "source": [
    "def generate_grading_feedback(prompt_template, rubric_text, assignment_text, \n",
    "                              max_new_tokens=300, temperature=0.7, top_p=0.9, num_return_sequences=1):\n",
    "\n",
    "    # Fill in the prompt template with the rubric, assignment, and task description\n",
    "    prompt = prompt_template.format(\n",
    "        rubric=rubric_text, \n",
    "        assignment=assignment_text, \n",
    "    )\n",
    "\n",
    "    # Generate the output using the given parameters\n",
    "    outputs = generator(\n",
    "        prompt, \n",
    "        max_new_tokens=max_new_tokens, \n",
    "        temperature=temperature, \n",
    "        top_p=top_p, \n",
    "        num_return_sequences=num_return_sequences,\n",
    "        pad_token_id=128001\n",
    "    )\n",
    "    \n",
    "    # Return generated text\n",
    "    return [output['generated_text'] for output in outputs]\n",
    "\n"
   ]
  },
  {
   "cell_type": "code",
   "execution_count": 16,
   "id": "089efaae-7f5f-4eff-b234-877d2c7ce12f",
   "metadata": {},
   "outputs": [],
   "source": [
    "prompt_temp = \"\"\"\n",
    "You are a helpful grading assistant. \n",
    "\n",
    "Task: Generate a grade for the assignment base on the rubric and a structured feedback for both the teacher and students.\n",
    "Please read the content of the following two documents.\n",
    "\n",
    "Rubric:\n",
    "{rubric}\n",
    "\n",
    "Student Assignment:\n",
    "{assignment}\n",
    "\n",
    "There is going to be two main task for you, \n",
    "1, grade the assignment base on the rubric, \n",
    " - if the rubric has grade, grade the assignment base on that grade level.\n",
    " - show reason for each points off with a short sentence or just a few words.\n",
    " - Create a table for the grading in csv format.\n",
    " \n",
    "2. Write a few personalize feedback for the students\n",
    "\"\"\"\n",
    "prompt_list = [prompt_temp]"
   ]
  },
  {
   "cell_type": "code",
   "execution_count": 17,
   "id": "2d2a8f7e-1a4a-4797-9794-ec327a71183f",
   "metadata": {},
   "outputs": [],
   "source": [
    "## Load the rubric and assignment\n",
    "rubric_test_path = '/Users/uumin/Documents/QMSS/f24/Grademate/ym_GM/data/train/rb1/10th_Grade_Literature.md'\n",
    "assignment_test_path = '/Users/uumin/Documents/QMSS/f24/Grademate/ym_GM/data/train/rb1/rb1_asi/a1.txt'\n",
    "\n",
    "with open(rubric_test_path, 'r') as file:\n",
    "    rubric_test = file.read()\n",
    "\n",
    "with open(assignment_test_path, 'r') as file:\n",
    "    assignment_test = file.read()\n"
   ]
  },
  {
   "cell_type": "code",
   "execution_count": null,
   "id": "6e875781-22f1-43c7-b2e8-23c8168994e0",
   "metadata": {},
   "outputs": [
    {
     "name": "stderr",
     "output_type": "stream",
     "text": [
      "Starting from v4.46, the `logits` model output will have the same type as the model (except at train time, where it will always be FP32)\n"
     ]
    }
   ],
   "source": [
    "# Generate feedback with specified prompt engineering\n",
    "feedback = generate_grading_feedback(\n",
    "    prompt_template=prompt_temp,\n",
    "    rubric_text=rubric_test, \n",
    "    assignment_text=assignment_test, \n",
    "    max_new_tokens=300, \n",
    "    temperature=0.6,  # Lower temperature for deterministic grading\n",
    "    top_p=0.9, \n",
    "    num_return_sequences=1\n",
    ")\n",
    "\n",
    "# Output the generated feedback\n",
    "print(feedback[0])\n"
   ]
  },
  {
   "cell_type": "markdown",
   "id": "56f728d9-c850-4f71-84f3-49768968705c",
   "metadata": {},
   "source": [
    "## Task: Generate a grade for the assignment base on the rubric and a structured feedback for both the teacher and students.\n",
    "\n",
    "**Initial Prompt**:\n",
    "\"\n",
    "There is going to be two main task for you, \n",
    "1, grade the assignment base on the rubric, \n",
    " - if the rubric has grade, grade the assignment base on that grade level.\n",
    " - show reason for each points off with a short sentence or just a few words.\n",
    " - Create a table for the grading.\n",
    "2. Write a few personalize feedback for the students\""
   ]
  },
  {
   "cell_type": "markdown",
   "id": "6385f60b-4dcd-4a1e-8ba7-9a0fe8cf737e",
   "metadata": {},
   "source": [
    "Base Prompt"
   ]
  },
  {
   "cell_type": "code",
   "execution_count": null,
   "id": "be338330-203a-44d8-a90d-99aa3e351526",
   "metadata": {},
   "outputs": [],
   "source": []
  }
 ],
 "metadata": {
  "kernelspec": {
   "display_name": "gm_llama",
   "language": "python",
   "name": "gm_llama"
  },
  "language_info": {
   "codemirror_mode": {
    "name": "ipython",
    "version": 3
   },
   "file_extension": ".py",
   "mimetype": "text/x-python",
   "name": "python",
   "nbconvert_exporter": "python",
   "pygments_lexer": "ipython3",
   "version": "3.11.4"
  }
 },
 "nbformat": 4,
 "nbformat_minor": 5
}
